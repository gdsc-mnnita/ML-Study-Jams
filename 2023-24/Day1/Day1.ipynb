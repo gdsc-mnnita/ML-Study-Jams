{
  "cells": [
    {
      "cell_type": "code",
      "execution_count": null,
      "id": "110a11b4-a105-4cdc-888f-cce5ccfe55bc",
      "metadata": {
        "id": "110a11b4-a105-4cdc-888f-cce5ccfe55bc"
      },
      "outputs": [],
      "source": [
        "#Lets declare a variable\n",
        "a=6\n",
        "b=5.2314\n",
        "c='a'\n",
        "d=False\n",
        "#as you can see you don't have to mention the data type here\n",
        "#but name all the data types you can see"
      ]
    },
    {
      "cell_type": "code",
      "execution_count": null,
      "id": "000ff588-0223-4fab-a62b-3b87683fd564",
      "metadata": {
        "id": "000ff588-0223-4fab-a62b-3b87683fd564"
      },
      "outputs": [],
      "source": [
        "#Lets take input in python\n",
        "a=input(\"hello john please input a variable\")"
      ]
    },
    {
      "cell_type": "code",
      "execution_count": null,
      "id": "c7850851-1576-48e1-9d71-386b7ec7c469",
      "metadata": {
        "id": "c7850851-1576-48e1-9d71-386b7ec7c469"
      },
      "outputs": [],
      "source": [
        "#Printing variables in python\n",
        "print(a)\n",
        "print(b)\n",
        "print(c)\n",
        "#lets print something cool\n",
        "print(\"-\"*40)\n",
        "#haha in your face C\n",
        "print(type(a)) #why is this function important ?"
      ]
    },
    {
      "cell_type": "code",
      "execution_count": null,
      "id": "1737e514-d61d-41aa-9039-23e0584261ab",
      "metadata": {
        "id": "1737e514-d61d-41aa-9039-23e0584261ab"
      },
      "outputs": [],
      "source": [
        "#Strings in Python\n",
        "#What are strings??????\n",
        "#Single Line Strings\n",
        "a=\"abcedfffg\"\n",
        "b='hello world'\n",
        "print(b)\n",
        "#MultiLine Strings\n",
        "c=\"\"\"the quick brown fox\n",
        "jumps over the lazy\n",
        "dog\"\"\"\n",
        "print(a)\n",
        "print(b)\n",
        "print(c)"
      ]
    },
    {
      "cell_type": "code",
      "execution_count": null,
      "id": "a6168159-372a-4ef2-8135-02e6a0da1225",
      "metadata": {
        "id": "a6168159-372a-4ef2-8135-02e6a0da1225"
      },
      "outputs": [],
      "source": [
        "#Indexing in Python\n",
        "name=\"Python\"\n",
        "print(name[0])\n",
        "print(name[-1])\n",
        "print(name[2:])\n",
        "print(name[:3])\n",
        "#Guess their Outputs ?\n"
      ]
    },
    {
      "cell_type": "code",
      "execution_count": null,
      "id": "7942d479-4c9e-4196-8002-859739c0995b",
      "metadata": {
        "id": "7942d479-4c9e-4196-8002-859739c0995b"
      },
      "outputs": [],
      "source": [
        "#Inbuilt functions in strings\n",
        "print(len(name))\n",
        "print(name.find(\"p\"))\n",
        "print(name.index(\"p\"))\n",
        "print(name.capitalize())\n",
        "#explore more functions"
      ]
    },
    {
      "cell_type": "code",
      "execution_count": null,
      "id": "3b30a5a3-e48f-45c6-b83d-4534a8670d55",
      "metadata": {
        "id": "3b30a5a3-e48f-45c6-b83d-4534a8670d55"
      },
      "outputs": [],
      "source": [
        "# Arithmetic Operations in Python\n",
        "a=4\n",
        "b=10\n",
        "print(a+b)  #addition\n",
        "print(a-b)  #subtraction\n",
        "print(a*b)  #multiplication"
      ]
    },
    {
      "cell_type": "code",
      "execution_count": null,
      "id": "7256aca4-5b36-496b-9474-925d5e969a2c",
      "metadata": {
        "id": "7256aca4-5b36-496b-9474-925d5e969a2c"
      },
      "outputs": [],
      "source": [
        "print(b/a)  #divison\n",
        "print(b//a) #double divison\n",
        "print(2**5) #exponentation\n",
        "print(5%3)  #modulus"
      ]
    },
    {
      "cell_type": "code",
      "execution_count": null,
      "id": "9f6b83a0-3ed4-44ee-9cd0-997e2067c4f8",
      "metadata": {
        "id": "9f6b83a0-3ed4-44ee-9cd0-997e2067c4f8"
      },
      "outputs": [],
      "source": [
        "#Comments\n",
        "#Single Line comments\n",
        "\"\"\"\n",
        "multi\n",
        "line\n",
        "comments\n",
        "\"\"\""
      ]
    },
    {
      "cell_type": "code",
      "execution_count": null,
      "id": "dcfe462e-bac6-4e94-8172-d4d1a00d9184",
      "metadata": {
        "id": "dcfe462e-bac6-4e94-8172-d4d1a00d9184"
      },
      "outputs": [],
      "source": [
        "#If-elif and logical operators\n",
        " # == != < <= > >=\n",
        "a=12\n",
        "b=13\n",
        "if b>a:\n",
        "     print(\"b is greater than a\")\n",
        "elif a==b:\n",
        "    print(\"a  is equal than b\")\n",
        "else :\n",
        "    print(\"a is greater than b\")"
      ]
    },
    {
      "cell_type": "code",
      "execution_count": null,
      "id": "8577d65f-b64e-437c-9d00-8362882953bd",
      "metadata": {
        "id": "8577d65f-b64e-437c-9d00-8362882953bd"
      },
      "outputs": [],
      "source": [
        "#Loops in python\n",
        "#the for loop\n",
        "for i in range(0,5):\n",
        "    print(i)\n",
        "for i  in reversed(range(5)):\n",
        "    print(i)\n",
        "for i in range(5,-1,-1):\n",
        "    print(i)\n",
        "#the while loop\n",
        "i=1\n",
        "while i<6:\n",
        "    print(i)\n",
        "    i+=1"
      ]
    },
    {
      "cell_type": "code",
      "execution_count": null,
      "id": "5b4abc47-cd2e-4cba-960a-0495fa0c127c",
      "metadata": {
        "id": "5b4abc47-cd2e-4cba-960a-0495fa0c127c"
      },
      "outputs": [],
      "source": [
        "#Continue statements\n",
        "#break\n",
        "for i in range(0,5):\n",
        "    if i<4:\n",
        "     print(i)\n",
        "    else:\n",
        "     break\n",
        "#continue\n",
        "#Continue statements\n",
        "#break\n",
        "for i in range(0,5):\n",
        "    if i<4:\n",
        "     print(i)\n",
        "    else:\n",
        "     continue"
      ]
    },
    {
      "cell_type": "code",
      "execution_count": null,
      "id": "66392d86-eb3c-4021-9938-d3dd3130a0d6",
      "metadata": {
        "id": "66392d86-eb3c-4021-9938-d3dd3130a0d6"
      },
      "outputs": [],
      "source": [
        "#Functions\n",
        "#A simple code to find sum of numbers from 1 to 10\n",
        "def sum():\n",
        "    sum=0\n",
        "    for i in range(0,11):\n",
        "     sum=sum+i\n",
        "    print(sum)\n",
        "sum()\n",
        "# write a function for fibbonacci series"
      ]
    },
    {
      "cell_type": "code",
      "execution_count": null,
      "id": "4d5f15d0-d724-46e1-9e5c-fef532622f6b",
      "metadata": {
        "id": "4d5f15d0-d724-46e1-9e5c-fef532622f6b"
      },
      "outputs": [],
      "source": [
        "#function parameters\n",
        "def sum(n,j=0,k=0):\n",
        "    sum=0\n",
        "    for i in range(0,n):\n",
        "     sum=sum+i\n",
        "    return sum\n",
        "sum(100)"
      ]
    },
    {
      "cell_type": "code",
      "execution_count": null,
      "id": "a8476a03-a1a1-4761-b8bc-4f2ad9063917",
      "metadata": {
        "id": "a8476a03-a1a1-4761-b8bc-4f2ad9063917"
      },
      "outputs": [],
      "source": [
        "#Recursion\n",
        "#Lets solve an NP-HARD problem\n",
        "\"\"\"\n",
        "....\n",
        ".\n",
        ".\n",
        ".\n",
        ".\n",
        ".\n",
        ".\n",
        ".\n",
        ".\n",
        ".\n",
        ".\n",
        ".\n",
        ".\n",
        ".\n",
        ".\n",
        ".\n",
        ".\n",
        ".\n",
        "\"\"\"\"\n",
        "#Just Kidding\n",
        "#Lets try to find sum of numbers\n",
        "def sum(n):\n",
        "    if n<1:\n",
        "        return 0\n",
        "    return (n+sum(n-1))\n",
        "print(sum(10))\n",
        "#As a home work try printing fibonacci series using python"
      ]
    },
    {
      "cell_type": "code",
      "execution_count": null,
      "id": "db83f756-c577-4cc8-9c2a-449570e6d180",
      "metadata": {
        "id": "db83f756-c577-4cc8-9c2a-449570e6d180"
      },
      "outputs": [],
      "source": [
        "#Data Structures in Python\n",
        "#List\n",
        "#List is similar to an array but has a few advantages over an array as  you saw in C\n",
        "L=[12,\"banana\",5.3]\n",
        "#List  is changeable\n",
        "L[1]=\"orange\"\n",
        "#List is mutable\n",
        "del L[1]\n",
        "#List allows for duplicates\n",
        "L[2]=12\n",
        "#adding elements in lists\n",
        "L=L+[\"game\",\"array\"]\n",
        "L.append(6.8)\n",
        "print(L)"
      ]
    },
    {
      "cell_type": "code",
      "execution_count": null,
      "id": "4825d03a-c54e-4a87-9c90-1133afbbcffc",
      "metadata": {
        "id": "4825d03a-c54e-4a87-9c90-1133afbbcffc",
        "outputId": "4bf9a031-10a0-46f6-ccc7-9af128119cd0"
      },
      "outputs": [
        {
          "name": "stdout",
          "output_type": "stream",
          "text": [
            "(12, 'banana', 5.3)\n"
          ]
        }
      ],
      "source": [
        "#Tuple\n",
        "#It is also similar to an array but it is immutable ?\n",
        "#What does Immutable mean????\n",
        "T=(12,\"banana\",5.3)\n",
        "print(T)\n",
        "# we cannot delete or change individual items in a tuple as we did previously\n",
        "#but we can delete tuple as  a  whole\n",
        "del T"
      ]
    },
    {
      "cell_type": "code",
      "execution_count": null,
      "id": "4151acf9-9119-46e0-ae72-f4454196d396",
      "metadata": {
        "id": "4151acf9-9119-46e0-ae72-f4454196d396"
      },
      "outputs": [],
      "source": [
        "#Set\n",
        "\"\"\"\n",
        "It stores stuff in an unindexed fashion and does not store duplicates\n",
        "\"\"\"\n",
        "T={1,2,4,\"apple\",4}\n",
        "#It is mutable we can add and remove stuff\n",
        "T.add(5.6)\n",
        "T.update({4,\"apple\"})"
      ]
    },
    {
      "cell_type": "code",
      "execution_count": null,
      "id": "be38265f-39f0-42c5-817c-b42453cf1521",
      "metadata": {
        "id": "be38265f-39f0-42c5-817c-b42453cf1521"
      },
      "outputs": [],
      "source": [
        "\"\"\"\n",
        "Dictionaries\n",
        "it is a form of a set that is used to store key Value pair\n",
        "\"\"\"\n",
        "X={\"Val\":12,\"Name\":\"Archit\"}\n",
        "print(X[\"Val\"])\n",
        "#mutable/changeable\n",
        "X[\"newval\"]=123\n",
        "#Home work learn about shallow and deep copy"
      ]
    },
    {
      "cell_type": "code",
      "execution_count": null,
      "id": "fb4fd8d9-29d1-46e0-a70f-beec53d3a185",
      "metadata": {
        "id": "fb4fd8d9-29d1-46e0-a70f-beec53d3a185"
      },
      "outputs": [],
      "source": [
        "#Python Libraries\n",
        "#NumPy\n",
        "\"\"\"\n",
        "Numpy stands for numerical python and it is a python library for working with arrays\n",
        "It is used very frequently in the domain of linear algebra\n",
        "Numpy is used as it is very fast as compared to lists and it is optimized to work with fewer CPU resources\n",
        "\"\"\"\n",
        "import numpy as np"
      ]
    },
    {
      "cell_type": "code",
      "execution_count": null,
      "id": "b8a78f97-2e30-4690-ac44-d3aed6ad8e1d",
      "metadata": {
        "scrolled": true,
        "id": "b8a78f97-2e30-4690-ac44-d3aed6ad8e1d",
        "outputId": "8b343baf-ecfb-4f8d-ce27-e1931cff65b3"
      },
      "outputs": [
        {
          "name": "stdout",
          "output_type": "stream",
          "text": [
            "<class 'numpy.ndarray'>\n",
            "[[ 1  2  3]\n",
            " [12  3  4]]\n"
          ]
        }
      ],
      "source": [
        "a=np.array([1,2,3,5,7])\n",
        "print(type(a))\n",
        "a=np.array([[1,2,3],[12,3,4]])\n",
        "print(a)\n",
        "#important rule for numpy make sure that you mantain consistency along the data\n",
        "#that is if first array has 3 elements then all arrays must have same number"
      ]
    },
    {
      "cell_type": "code",
      "execution_count": null,
      "id": "1f0a3c7e-da00-4fe1-9263-e113e4f7019b",
      "metadata": {
        "id": "1f0a3c7e-da00-4fe1-9263-e113e4f7019b",
        "outputId": "11647205-4b3d-466e-a27d-b0e827f9a2af"
      },
      "outputs": [
        {
          "name": "stdout",
          "output_type": "stream",
          "text": [
            "2\n",
            "(2, 3)\n"
          ]
        }
      ],
      "source": [
        "#some functions of numpy\n",
        "print(a.ndim)\n",
        "print(a.shape)\n"
      ]
    },
    {
      "cell_type": "code",
      "execution_count": null,
      "id": "aac210a5-f2c0-4aec-9616-58041bb1e49f",
      "metadata": {
        "id": "aac210a5-f2c0-4aec-9616-58041bb1e49f"
      },
      "outputs": [],
      "source": [
        "#Important functions for Next class\n",
        "import numpy as np\n",
        "A=np.arange(100)\n",
        "#Now a gets filled with values fromm 0-99\n",
        "A=np.arange(20,100,5)\n",
        "B=np.random.permutation(np.arange(10))\n",
        "C=np.random.randint(20,1000)\n"
      ]
    },
    {
      "cell_type": "code",
      "execution_count": null,
      "id": "75bba570-8a76-49e7-a719-ebca63581ce5",
      "metadata": {
        "id": "75bba570-8a76-49e7-a719-ebca63581ce5"
      },
      "outputs": [],
      "source": [
        "#Data Slicing\n",
        "A=np.arange(100)\n",
        "b=A[3:10]\n",
        "b[0]=-120\n",
        "A[3]#???\n",
        "A[::5]\n",
        "A[::-5]\n",
        "print(b)\n",
        "print(A[3])\n",
        "A[::5]\n",
        "A[::-5]\n",
        "print(A)\n",
        "idx=np.argwhere(A==-120)[0][0]\n",
        "print(idx)"
      ]
    },
    {
      "cell_type": "code",
      "execution_count": null,
      "id": "5d1ed2ab-9663-4a54-9c7d-fb054d192592",
      "metadata": {
        "id": "5d1ed2ab-9663-4a54-9c7d-fb054d192592"
      },
      "outputs": [],
      "source": [
        "A=np.random.rand(4,5)"
      ]
    },
    {
      "cell_type": "code",
      "execution_count": null,
      "id": "23f50edd-1382-4d6b-ade8-de7991875cc7",
      "metadata": {
        "id": "23f50edd-1382-4d6b-ade8-de7991875cc7",
        "outputId": "be129d36-4738-4e1a-e205-9b745f87abee"
      },
      "outputs": [
        {
          "data": {
            "text/plain": [
              "array([[0.22776378, 0.98370326, 0.41939447, 0.37014866, 0.09566308],\n",
              "       [0.28354988, 0.79422899, 0.36360753, 0.70595404, 0.85251102],\n",
              "       [0.21453084, 0.62311293, 0.11526554, 0.61272309, 0.87392816],\n",
              "       [0.45554458, 0.75396518, 0.74465955, 0.2331763 , 0.88001672]])"
            ]
          },
          "execution_count": 30,
          "metadata": {},
          "output_type": "execute_result"
        }
      ],
      "source": [
        "A\n"
      ]
    },
    {
      "cell_type": "code",
      "execution_count": null,
      "id": "95401d20-7bde-4266-82b0-2d9b293e35b5",
      "metadata": {
        "id": "95401d20-7bde-4266-82b0-2d9b293e35b5",
        "outputId": "de382753-1d86-4b3b-a639-be9e24224273"
      },
      "outputs": [
        {
          "name": "stdout",
          "output_type": "stream",
          "text": [
            "[0.28354988 0.79422899 0.36360753 0.70595404 0.85251102]\n"
          ]
        }
      ],
      "source": [
        "print(A[1,])"
      ]
    },
    {
      "cell_type": "code",
      "execution_count": null,
      "id": "7e9c176a-863c-4190-bff4-b9a27b4b6bb2",
      "metadata": {
        "id": "7e9c176a-863c-4190-bff4-b9a27b4b6bb2"
      },
      "outputs": [],
      "source": [
        "A.sort(axis=1)"
      ]
    },
    {
      "cell_type": "code",
      "execution_count": null,
      "id": "f9652d29-05f2-489e-b522-cfe265f81969",
      "metadata": {
        "id": "f9652d29-05f2-489e-b522-cfe265f81969",
        "outputId": "e6020846-ffc3-431e-8a04-9f0051e6e7c5"
      },
      "outputs": [
        {
          "data": {
            "text/plain": [
              "array([[0.09566308, 0.22776378, 0.37014866, 0.41939447, 0.98370326],\n",
              "       [0.28354988, 0.36360753, 0.70595404, 0.79422899, 0.85251102],\n",
              "       [0.11526554, 0.21453084, 0.61272309, 0.62311293, 0.87392816],\n",
              "       [0.2331763 , 0.45554458, 0.74465955, 0.75396518, 0.88001672]])"
            ]
          },
          "execution_count": 33,
          "metadata": {},
          "output_type": "execute_result"
        }
      ],
      "source": [
        "A"
      ]
    },
    {
      "cell_type": "code",
      "execution_count": null,
      "id": "c6147951-54fc-4ee2-ac41-4a5f037d0638",
      "metadata": {
        "id": "c6147951-54fc-4ee2-ac41-4a5f037d0638"
      },
      "outputs": [],
      "source": [
        "A.sort(axis=0)"
      ]
    },
    {
      "cell_type": "code",
      "execution_count": null,
      "id": "aab47055-f025-44b2-bf72-07b8c4234f63",
      "metadata": {
        "id": "aab47055-f025-44b2-bf72-07b8c4234f63",
        "outputId": "c3b6c211-65ae-4061-af8a-b988ec01f087"
      },
      "outputs": [
        {
          "data": {
            "text/plain": [
              "array([[0.09566308, 0.21453084, 0.37014866, 0.41939447, 0.85251102],\n",
              "       [0.11526554, 0.22776378, 0.61272309, 0.62311293, 0.87392816],\n",
              "       [0.2331763 , 0.36360753, 0.70595404, 0.75396518, 0.88001672],\n",
              "       [0.28354988, 0.45554458, 0.74465955, 0.79422899, 0.98370326]])"
            ]
          },
          "execution_count": 35,
          "metadata": {},
          "output_type": "execute_result"
        }
      ],
      "source": [
        "A"
      ]
    },
    {
      "cell_type": "code",
      "execution_count": null,
      "id": "29005c07-fe1a-4144-b94f-1a3f339baaf5",
      "metadata": {
        "id": "29005c07-fe1a-4144-b94f-1a3f339baaf5",
        "outputId": "1cb0b811-ad63-4177-a41b-8ef9239bf458"
      },
      "outputs": [
        {
          "data": {
            "text/plain": [
              "array([0, 1, 2, 3, 4, 9])"
            ]
          },
          "execution_count": 40,
          "metadata": {},
          "output_type": "execute_result"
        }
      ],
      "source": [
        "#Masking in Numpy\n",
        "A=np.arange(10)\n",
        "B=A[[1,4,5]]\n",
        "B=A[(A<5)|(A>8)]\n",
        "B"
      ]
    },
    {
      "cell_type": "code",
      "execution_count": null,
      "id": "6135a4ed-495f-42cb-b1ed-c3744d44a539",
      "metadata": {
        "id": "6135a4ed-495f-42cb-b1ed-c3744d44a539"
      },
      "outputs": [],
      "source": [
        "#Broadcasting in Numpy\n",
        "A=A+5\n",
        "A\n",
        "#Choice\n",
        "\"\"\"\n",
        "Instead of hoping on to random values we can define the elements in our array and also their\n",
        "probabality\n",
        "\"\"\"\n",
        "A=np.choice([1,2,3,4],p=[0.1,0.3,0.5,0.1],size=(100))"
      ]
    },
    {
      "cell_type": "code",
      "execution_count": null,
      "id": "4cb24b40-2e87-4ef7-80d5-d89d1cf46584",
      "metadata": {
        "id": "4cb24b40-2e87-4ef7-80d5-d89d1cf46584",
        "outputId": "97f460fb-b507-45d7-d98e-b7f3ad3920e6"
      },
      "outputs": [
        {
          "name": "stdout",
          "output_type": "stream",
          "text": [
            "[5 12 21 32]\n"
          ]
        }
      ],
      "source": [
        "# ufunc\n",
        "X=[1,2,3,4]\n",
        "Y=[5,6,7,8]\n",
        "z=np.add(X,Y)\n",
        "x=np.lcm.reduce(X)\n",
        "y=np.gcd(5,15)\n",
        "\"\"\"  creating your own ufunc\n",
        "To create your own ufunc, you have to define a function, like you do with normal functions in Python, then you add it to your NumPy ufunc library with the frompyfunc() method.\n",
        "\n",
        "The frompyfunc() method takes the following arguments:\n",
        "\n",
        "function - the name of the function.\n",
        "inputs - the number of input arguments (arrays).\n",
        "outputs - the number of output arrays.\n",
        "\"\"\"\n",
        "def mul(x,y):\n",
        "    return x*y\n",
        "mul=np.frompyfunc(mul,2,1)\n",
        "print(mul([1,2,3,4],[5,6,7,8]))"
      ]
    },
    {
      "cell_type": "code",
      "source": [
        "\"\"\"\n",
        "introduction to Matplotlib\n",
        "Another important library used in python for manipulating data and\n",
        "visualize it in the form of graphs\n",
        "It is made using python C and Objective-C and some parts are written in\n",
        "Javascript as well\n",
        "Most of the utilities of the matplot libraries lie under\n",
        "the pyplot submodule and are usually imported as plt\n",
        "\"\"\"\n",
        "import matplotlib.pyplot as plt\n",
        "import numpy as np\n",
        "#Lets say you want a straight line joining few points\n",
        "xp=np.array([1,4,5])\n",
        "yp=np.array([6,8,10])\n",
        "\"\"\"plt.plot(xp,yp) #plot function is used to draw points\n",
        "plt.show()\"\"\"\n",
        "#simply typing plot means that you are asking for a line to be drawn\n",
        "#we can also plot one which shows just the points by adding a parameter 'o' which means rings\n",
        "plt.plot(xp,yp,marker='o')\n",
        "#the plot function needs two lists\n",
        "#If only one is provied then an increasing permutation of the same size is crated by default\n",
        "#Read about functions that help you get a dotted line a thick line or a dashed line\n",
        "#Labels and Title\n",
        "plt.title('Graph Paper')\n",
        "plt.xlabel('X coordinates')\n",
        "plt.ylabel('Y coordinates')\n",
        "plt.grid()\n",
        "plt.show()\n",
        "\n",
        "\n",
        "\n",
        "\n"
      ],
      "metadata": {
        "id": "6GsbuDfugQDb"
      },
      "id": "6GsbuDfugQDb",
      "execution_count": null,
      "outputs": []
    },
    {
      "cell_type": "code",
      "execution_count": null,
      "id": "82c4e3d3-fce7-4c7f-845f-b0190c98ed71",
      "metadata": {
        "id": "82c4e3d3-fce7-4c7f-845f-b0190c98ed71",
        "colab": {
          "base_uri": "https://localhost:8080/",
          "height": 448
        },
        "outputId": "ce73f9c9-2dae-4c57-a62f-5aa1cbf718c6"
      },
      "outputs": [
        {
          "output_type": "execute_result",
          "data": {
            "text/plain": [
              "[<matplotlib.lines.Line2D at 0x7e6d6350b370>]"
            ]
          },
          "metadata": {},
          "execution_count": 4
        },
        {
          "output_type": "display_data",
          "data": {
            "text/plain": [
              "<Figure size 640x480 with 1 Axes>"
            ],
            "image/png": "[encoded data removed]"
          },
          "metadata": {}
        }
      ],
      "source": [
        "\"\"\"Lets plot sinx\"\"\"\n",
        "import numpy as np\n",
        "import matplotlib.pyplot as plt\n",
        "x=np.linspace(0,10,1000)\n",
        "y=np.sin(x)\n",
        "plt.plot(x,y)"
      ]
    },
    {
      "cell_type": "code",
      "source": [
        "\"\"\" Histograms \"\"\"\n",
        "x=np.random.normal(170,10,250)\n",
        "plt.hist(x)\n",
        "plt.show()"
      ],
      "metadata": {
        "id": "lrCGE5spgfNz"
      },
      "id": "lrCGE5spgfNz",
      "execution_count": null,
      "outputs": []
    }
  ],
  "metadata": {
    "kernelspec": {
      "display_name": "Python 3 (ipykernel)",
      "language": "python",
      "name": "python3"
    },
    "language_info": {
      "codemirror_mode": {
        "name": "ipython",
        "version": 3
      },
      "file_extension": ".py",
      "mimetype": "text/x-python",
      "name": "python",
      "nbconvert_exporter": "python",
      "pygments_lexer": "ipython3",
      "version": "3.12.1"
    },
    "colab": {
      "provenance": []
    }
  },
  "nbformat": 4,
  "nbformat_minor": 5
}