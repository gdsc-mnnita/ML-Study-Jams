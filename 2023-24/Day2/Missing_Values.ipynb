{
  "cells": [
    {
      "cell_type": "code",
      "execution_count": null,
      "id": "0777c437",
      "metadata": {
        "execution": {
          "iopub.execute_input": "2024-01-23T11:38:54.503025Z",
          "iopub.status.busy": "2024-01-23T11:38:54.502386Z",
          "iopub.status.idle": "2024-01-23T11:38:54.515362Z",
          "shell.execute_reply": "2024-01-23T11:38:54.514168Z"
        },
        "papermill": {
          "duration": 0.024067,
          "end_time": "2024-01-23T11:38:54.518581",
          "exception": false,
          "start_time": "2024-01-23T11:38:54.494514",
          "status": "completed"
        },
        "tags": [],
        "id": "0777c437",
        "outputId": "3c9f6932-86bb-415c-ba71-2ac9fedb5d4f"
      },
      "outputs": [
        {
          "name": "stdout",
          "output_type": "stream",
          "text": [
            "Setup Complete\n"
          ]
        }
      ],
      "source": [
        "# Set up code checking\n",
        "import os\n",
        "if not os.path.exists(\"../input/train.csv\"):\n",
        "    os.symlink(\"../input/home-data-for-ml-course/train.csv\", \"../input/train.csv\")\n",
        "    os.symlink(\"../input/home-data-for-ml-course/test.csv\", \"../input/test.csv\")\n",
        "print(\"Setup Complete\")"
      ]
    },
    {
      "cell_type": "markdown",
      "id": "d965ea8d",
      "metadata": {
        "papermill": {
          "duration": 0.005831,
          "end_time": "2024-01-23T11:38:54.530723",
          "exception": false,
          "start_time": "2024-01-23T11:38:54.524892",
          "status": "completed"
        },
        "tags": [],
        "id": "d965ea8d"
      },
      "source": [
        "In this exercise, you will work with data from the [Housing Prices Competition for Kaggle Learn Users](https://www.kaggle.com/c/home-data-for-ml-course).\n",
        "\n",
        "![Ames Housing dataset image](https://i.imgur.com/lTJVG4e.png)\n",
        "\n",
        "Run the next code cell without changes to load the training and validation sets in `X_train`, `X_valid`, `y_train`, and `y_valid`.  The test set is loaded in `X_test`."
      ]
    },
    {
      "cell_type": "code",
      "execution_count": null,
      "id": "dd6bcd12",
      "metadata": {
        "execution": {
          "iopub.execute_input": "2024-01-23T11:38:54.544709Z",
          "iopub.status.busy": "2024-01-23T11:38:54.543998Z",
          "iopub.status.idle": "2024-01-23T11:38:56.419797Z",
          "shell.execute_reply": "2024-01-23T11:38:56.418380Z"
        },
        "papermill": {
          "duration": 1.885952,
          "end_time": "2024-01-23T11:38:56.422610",
          "exception": false,
          "start_time": "2024-01-23T11:38:54.536658",
          "status": "completed"
        },
        "tags": [],
        "id": "dd6bcd12"
      },
      "outputs": [],
      "source": [
        "import pandas as pd\n",
        "from sklearn.model_selection import train_test_split\n",
        "\n",
        "# Read the data\n",
        "X_full = pd.read_csv('../input/train.csv', index_col='Id')\n",
        "X_test_full = pd.read_csv('../input/test.csv', index_col='Id')\n",
        "\n",
        "# Remove rows with missing target, separate target from predictors\n",
        "X_full.dropna(axis=0, subset=['SalePrice'], inplace=True)\n",
        "y = X_full.SalePrice\n",
        "X_full.drop(['SalePrice'], axis=1, inplace=True)\n",
        "\n",
        "# To keep things simple, we'll use only numerical predictors\n",
        "X = X_full.select_dtypes(exclude=['object'])\n",
        "X_test = X_test_full.select_dtypes(exclude=['object'])\n",
        "\n",
        "# Break off validation set from training data\n",
        "X_train, X_valid, y_train, y_valid = train_test_split(X, y, train_size=0.8, test_size=0.2,\n",
        "                                                      random_state=0)"
      ]
    },
    {
      "cell_type": "markdown",
      "id": "7e2bfbfb",
      "metadata": {
        "papermill": {
          "duration": 0.006037,
          "end_time": "2024-01-23T11:38:56.435095",
          "exception": false,
          "start_time": "2024-01-23T11:38:56.429058",
          "status": "completed"
        },
        "tags": [],
        "id": "7e2bfbfb"
      },
      "source": [
        "Use the next code cell to print the first five rows of the data."
      ]
    },
    {
      "cell_type": "code",
      "execution_count": null,
      "id": "5b3f952a",
      "metadata": {
        "execution": {
          "iopub.execute_input": "2024-01-23T11:38:56.449090Z",
          "iopub.status.busy": "2024-01-23T11:38:56.448606Z",
          "iopub.status.idle": "2024-01-23T11:38:56.476322Z",
          "shell.execute_reply": "2024-01-23T11:38:56.474860Z"
        },
        "papermill": {
          "duration": 0.037949,
          "end_time": "2024-01-23T11:38:56.479085",
          "exception": false,
          "start_time": "2024-01-23T11:38:56.441136",
          "status": "completed"
        },
        "tags": [],
        "id": "5b3f952a",
        "outputId": "c82435f5-a4cf-4263-add1-956ba3e8a5e0"
      },
      "outputs": [
        {
          "data": {
            "text/html": [
              "<div>\n",
              "<style scoped>\n",
              "    .dataframe tbody tr th:only-of-type {\n",
              "        vertical-align: middle;\n",
              "    }\n",
              "\n",
              "    .dataframe tbody tr th {\n",
              "        vertical-align: top;\n",
              "    }\n",
              "\n",
              "    .dataframe thead th {\n",
              "        text-align: right;\n",
              "    }\n",
              "</style>\n",
              "<table border=\"1\" class=\"dataframe\">\n",
              "  <thead>\n",
              "    <tr style=\"text-align: right;\">\n",
              "      <th></th>\n",
              "      <th>MSSubClass</th>\n",
              "      <th>LotFrontage</th>\n",
              "      <th>LotArea</th>\n",
              "      <th>OverallQual</th>\n",
              "      <th>OverallCond</th>\n",
              "      <th>YearBuilt</th>\n",
              "      <th>YearRemodAdd</th>\n",
              "      <th>MasVnrArea</th>\n",
              "      <th>BsmtFinSF1</th>\n",
              "      <th>BsmtFinSF2</th>\n",
              "      <th>...</th>\n",
              "      <th>GarageArea</th>\n",
              "      <th>WoodDeckSF</th>\n",
              "      <th>OpenPorchSF</th>\n",
              "      <th>EnclosedPorch</th>\n",
              "      <th>3SsnPorch</th>\n",
              "      <th>ScreenPorch</th>\n",
              "      <th>PoolArea</th>\n",
              "      <th>MiscVal</th>\n",
              "      <th>MoSold</th>\n",
              "      <th>YrSold</th>\n",
              "    </tr>\n",
              "    <tr>\n",
              "      <th>Id</th>\n",
              "      <th></th>\n",
              "      <th></th>\n",
              "      <th></th>\n",
              "      <th></th>\n",
              "      <th></th>\n",
              "      <th></th>\n",
              "      <th></th>\n",
              "      <th></th>\n",
              "      <th></th>\n",
              "      <th></th>\n",
              "      <th></th>\n",
              "      <th></th>\n",
              "      <th></th>\n",
              "      <th></th>\n",
              "      <th></th>\n",
              "      <th></th>\n",
              "      <th></th>\n",
              "      <th></th>\n",
              "      <th></th>\n",
              "      <th></th>\n",
              "      <th></th>\n",
              "    </tr>\n",
              "  </thead>\n",
              "  <tbody>\n",
              "    <tr>\n",
              "      <th>619</th>\n",
              "      <td>20</td>\n",
              "      <td>90.0</td>\n",
              "      <td>11694</td>\n",
              "      <td>9</td>\n",
              "      <td>5</td>\n",
              "      <td>2007</td>\n",
              "      <td>2007</td>\n",
              "      <td>452.0</td>\n",
              "      <td>48</td>\n",
              "      <td>0</td>\n",
              "      <td>...</td>\n",
              "      <td>774</td>\n",
              "      <td>0</td>\n",
              "      <td>108</td>\n",
              "      <td>0</td>\n",
              "      <td>0</td>\n",
              "      <td>260</td>\n",
              "      <td>0</td>\n",
              "      <td>0</td>\n",
              "      <td>7</td>\n",
              "      <td>2007</td>\n",
              "    </tr>\n",
              "    <tr>\n",
              "      <th>871</th>\n",
              "      <td>20</td>\n",
              "      <td>60.0</td>\n",
              "      <td>6600</td>\n",
              "      <td>5</td>\n",
              "      <td>5</td>\n",
              "      <td>1962</td>\n",
              "      <td>1962</td>\n",
              "      <td>0.0</td>\n",
              "      <td>0</td>\n",
              "      <td>0</td>\n",
              "      <td>...</td>\n",
              "      <td>308</td>\n",
              "      <td>0</td>\n",
              "      <td>0</td>\n",
              "      <td>0</td>\n",
              "      <td>0</td>\n",
              "      <td>0</td>\n",
              "      <td>0</td>\n",
              "      <td>0</td>\n",
              "      <td>8</td>\n",
              "      <td>2009</td>\n",
              "    </tr>\n",
              "    <tr>\n",
              "      <th>93</th>\n",
              "      <td>30</td>\n",
              "      <td>80.0</td>\n",
              "      <td>13360</td>\n",
              "      <td>5</td>\n",
              "      <td>7</td>\n",
              "      <td>1921</td>\n",
              "      <td>2006</td>\n",
              "      <td>0.0</td>\n",
              "      <td>713</td>\n",
              "      <td>0</td>\n",
              "      <td>...</td>\n",
              "      <td>432</td>\n",
              "      <td>0</td>\n",
              "      <td>0</td>\n",
              "      <td>44</td>\n",
              "      <td>0</td>\n",
              "      <td>0</td>\n",
              "      <td>0</td>\n",
              "      <td>0</td>\n",
              "      <td>8</td>\n",
              "      <td>2009</td>\n",
              "    </tr>\n",
              "    <tr>\n",
              "      <th>818</th>\n",
              "      <td>20</td>\n",
              "      <td>NaN</td>\n",
              "      <td>13265</td>\n",
              "      <td>8</td>\n",
              "      <td>5</td>\n",
              "      <td>2002</td>\n",
              "      <td>2002</td>\n",
              "      <td>148.0</td>\n",
              "      <td>1218</td>\n",
              "      <td>0</td>\n",
              "      <td>...</td>\n",
              "      <td>857</td>\n",
              "      <td>150</td>\n",
              "      <td>59</td>\n",
              "      <td>0</td>\n",
              "      <td>0</td>\n",
              "      <td>0</td>\n",
              "      <td>0</td>\n",
              "      <td>0</td>\n",
              "      <td>7</td>\n",
              "      <td>2008</td>\n",
              "    </tr>\n",
              "    <tr>\n",
              "      <th>303</th>\n",
              "      <td>20</td>\n",
              "      <td>118.0</td>\n",
              "      <td>13704</td>\n",
              "      <td>7</td>\n",
              "      <td>5</td>\n",
              "      <td>2001</td>\n",
              "      <td>2002</td>\n",
              "      <td>150.0</td>\n",
              "      <td>0</td>\n",
              "      <td>0</td>\n",
              "      <td>...</td>\n",
              "      <td>843</td>\n",
              "      <td>468</td>\n",
              "      <td>81</td>\n",
              "      <td>0</td>\n",
              "      <td>0</td>\n",
              "      <td>0</td>\n",
              "      <td>0</td>\n",
              "      <td>0</td>\n",
              "      <td>1</td>\n",
              "      <td>2006</td>\n",
              "    </tr>\n",
              "  </tbody>\n",
              "</table>\n",
              "<p>5 rows × 36 columns</p>\n",
              "</div>"
            ],
            "text/plain": [
              "     MSSubClass  LotFrontage  LotArea  OverallQual  OverallCond  YearBuilt  \\\n",
              "Id                                                                           \n",
              "619          20         90.0    11694            9            5       2007   \n",
              "871          20         60.0     6600            5            5       1962   \n",
              "93           30         80.0    13360            5            7       1921   \n",
              "818          20          NaN    13265            8            5       2002   \n",
              "303          20        118.0    13704            7            5       2001   \n",
              "\n",
              "     YearRemodAdd  MasVnrArea  BsmtFinSF1  BsmtFinSF2  ...  GarageArea  \\\n",
              "Id                                                     ...               \n",
              "619          2007       452.0          48           0  ...         774   \n",
              "871          1962         0.0           0           0  ...         308   \n",
              "93           2006         0.0         713           0  ...         432   \n",
              "818          2002       148.0        1218           0  ...         857   \n",
              "303          2002       150.0           0           0  ...         843   \n",
              "\n",
              "     WoodDeckSF  OpenPorchSF  EnclosedPorch  3SsnPorch  ScreenPorch  PoolArea  \\\n",
              "Id                                                                              \n",
              "619           0          108              0          0          260         0   \n",
              "871           0            0              0          0            0         0   \n",
              "93            0            0             44          0            0         0   \n",
              "818         150           59              0          0            0         0   \n",
              "303         468           81              0          0            0         0   \n",
              "\n",
              "     MiscVal  MoSold  YrSold  \n",
              "Id                            \n",
              "619        0       7    2007  \n",
              "871        0       8    2009  \n",
              "93         0       8    2009  \n",
              "818        0       7    2008  \n",
              "303        0       1    2006  \n",
              "\n",
              "[5 rows x 36 columns]"
            ]
          },
          "execution_count": 3,
          "metadata": {},
          "output_type": "execute_result"
        }
      ],
      "source": [
        "X_train.head()"
      ]
    },
    {
      "cell_type": "markdown",
      "id": "491ea69f",
      "metadata": {
        "papermill": {
          "duration": 0.006149,
          "end_time": "2024-01-23T11:38:56.491692",
          "exception": false,
          "start_time": "2024-01-23T11:38:56.485543",
          "status": "completed"
        },
        "tags": [],
        "id": "491ea69f"
      },
      "source": [
        "You can already see a few missing values in the first several rows.  In the next step, you'll obtain a more comprehensive understanding of the missing values in the dataset.\n",
        "\n",
        "# Initial investigation\n",
        "\n",
        "Run the code cell below without changes."
      ]
    },
    {
      "cell_type": "code",
      "execution_count": null,
      "id": "3ab85088",
      "metadata": {
        "execution": {
          "iopub.execute_input": "2024-01-23T11:38:56.506275Z",
          "iopub.status.busy": "2024-01-23T11:38:56.505862Z",
          "iopub.status.idle": "2024-01-23T11:38:56.514245Z",
          "shell.execute_reply": "2024-01-23T11:38:56.512973Z"
        },
        "papermill": {
          "duration": 0.018562,
          "end_time": "2024-01-23T11:38:56.516687",
          "exception": false,
          "start_time": "2024-01-23T11:38:56.498125",
          "status": "completed"
        },
        "tags": [],
        "id": "3ab85088",
        "outputId": "b87bf1dd-0a41-44c3-8c79-93884b7ff69b"
      },
      "outputs": [
        {
          "name": "stdout",
          "output_type": "stream",
          "text": [
            "(1168, 36)\n",
            "LotFrontage    212\n",
            "MasVnrArea       6\n",
            "GarageYrBlt     58\n",
            "dtype: int64\n"
          ]
        }
      ],
      "source": [
        "# Shape of training data (num_rows, num_columns)\n",
        "print(X_train.shape)\n",
        "\n",
        "# Number of missing values in each column of training data\n",
        "missing_val_count_by_column = (X_train.isnull().sum())\n",
        "print(missing_val_count_by_column[missing_val_count_by_column > 0])"
      ]
    },
    {
      "cell_type": "code",
      "execution_count": null,
      "id": "9d22ea02",
      "metadata": {
        "execution": {
          "iopub.execute_input": "2024-01-23T11:38:56.531651Z",
          "iopub.status.busy": "2024-01-23T11:38:56.531278Z",
          "iopub.status.idle": "2024-01-23T11:38:56.536011Z",
          "shell.execute_reply": "2024-01-23T11:38:56.535001Z"
        },
        "papermill": {
          "duration": 0.014905,
          "end_time": "2024-01-23T11:38:56.538075",
          "exception": false,
          "start_time": "2024-01-23T11:38:56.523170",
          "status": "completed"
        },
        "tags": [],
        "id": "9d22ea02"
      },
      "outputs": [],
      "source": [
        "num_rows = 1168\n",
        "num_cols_with_missing = 3\n",
        "tot_missing = 276"
      ]
    },
    {
      "cell_type": "code",
      "execution_count": null,
      "id": "e7b580e5",
      "metadata": {
        "execution": {
          "iopub.execute_input": "2024-01-23T11:38:56.552845Z",
          "iopub.status.busy": "2024-01-23T11:38:56.552459Z",
          "iopub.status.idle": "2024-01-23T11:38:56.931039Z",
          "shell.execute_reply": "2024-01-23T11:38:56.929194Z"
        },
        "papermill": {
          "duration": 0.389662,
          "end_time": "2024-01-23T11:38:56.934263",
          "exception": false,
          "start_time": "2024-01-23T11:38:56.544601",
          "status": "completed"
        },
        "tags": [],
        "id": "e7b580e5"
      },
      "outputs": [],
      "source": [
        "from sklearn.ensemble import RandomForestRegressor\n",
        "from sklearn.metrics import mean_absolute_error\n",
        "\n",
        "# Function for comparing different approaches\n",
        "def score_dataset(X_train, X_valid, y_train, y_valid):\n",
        "    model = RandomForestRegressor(n_estimators=100, random_state=0)\n",
        "    model.fit(X_train, y_train)\n",
        "    preds = model.predict(X_valid)\n",
        "    return mean_absolute_error(y_valid, preds)"
      ]
    },
    {
      "cell_type": "markdown",
      "id": "60a9c71f",
      "metadata": {
        "papermill": {
          "duration": 0.006313,
          "end_time": "2024-01-23T11:38:56.947779",
          "exception": false,
          "start_time": "2024-01-23T11:38:56.941466",
          "status": "completed"
        },
        "tags": [],
        "id": "60a9c71f"
      },
      "source": [
        "# Drop columns with missing values\n",
        "\n",
        "In this step, you'll preprocess the data in `X_train` and `X_valid` to remove columns with missing values.  Set the preprocessed DataFrames to `reduced_X_train` and `reduced_X_valid`, respectively.  "
      ]
    },
    {
      "cell_type": "code",
      "execution_count": null,
      "id": "e66eeacb",
      "metadata": {
        "execution": {
          "iopub.execute_input": "2024-01-23T11:38:56.962539Z",
          "iopub.status.busy": "2024-01-23T11:38:56.962098Z",
          "iopub.status.idle": "2024-01-23T11:38:56.970218Z",
          "shell.execute_reply": "2024-01-23T11:38:56.968879Z"
        },
        "papermill": {
          "duration": 0.01837,
          "end_time": "2024-01-23T11:38:56.972625",
          "exception": false,
          "start_time": "2024-01-23T11:38:56.954255",
          "status": "completed"
        },
        "tags": [],
        "id": "e66eeacb"
      },
      "outputs": [],
      "source": [
        "reduced_X_train = X_train.drop([\"LotFrontage\", \"MasVnrArea\",\"GarageYrBlt\"],axis=1)\n",
        "reduced_X_valid = X_valid.drop([\"LotFrontage\", \"MasVnrArea\",\"GarageYrBlt\"],axis=1)"
      ]
    },
    {
      "cell_type": "markdown",
      "id": "745b8ce2",
      "metadata": {
        "papermill": {
          "duration": 0.006315,
          "end_time": "2024-01-23T11:38:56.986055",
          "exception": false,
          "start_time": "2024-01-23T11:38:56.979740",
          "status": "completed"
        },
        "tags": [],
        "id": "745b8ce2"
      },
      "source": [
        "Run the next code cell without changes to obtain the MAE for this approach."
      ]
    },
    {
      "cell_type": "code",
      "execution_count": null,
      "id": "3eedd96c",
      "metadata": {
        "execution": {
          "iopub.execute_input": "2024-01-23T11:38:57.000772Z",
          "iopub.status.busy": "2024-01-23T11:38:57.000359Z",
          "iopub.status.idle": "2024-01-23T11:38:58.261135Z",
          "shell.execute_reply": "2024-01-23T11:38:58.259789Z"
        },
        "papermill": {
          "duration": 1.271053,
          "end_time": "2024-01-23T11:38:58.263606",
          "exception": false,
          "start_time": "2024-01-23T11:38:56.992553",
          "status": "completed"
        },
        "tags": [],
        "id": "3eedd96c",
        "outputId": "bc81f507-6e18-4ddf-8481-b8c1869a7677"
      },
      "outputs": [
        {
          "name": "stdout",
          "output_type": "stream",
          "text": [
            "MAE (Drop columns with missing values):\n",
            "17837.82570776256\n"
          ]
        }
      ],
      "source": [
        "print(\"MAE (Drop columns with missing values):\")\n",
        "print(score_dataset(reduced_X_train, reduced_X_valid, y_train, y_valid))"
      ]
    },
    {
      "cell_type": "code",
      "execution_count": null,
      "id": "8a81fb4c",
      "metadata": {
        "execution": {
          "iopub.execute_input": "2024-01-23T11:38:58.278859Z",
          "iopub.status.busy": "2024-01-23T11:38:58.278430Z",
          "iopub.status.idle": "2024-01-23T11:38:58.299108Z",
          "shell.execute_reply": "2024-01-23T11:38:58.297990Z"
        },
        "papermill": {
          "duration": 0.03121,
          "end_time": "2024-01-23T11:38:58.301733",
          "exception": false,
          "start_time": "2024-01-23T11:38:58.270523",
          "status": "completed"
        },
        "tags": [],
        "id": "8a81fb4c"
      },
      "outputs": [],
      "source": [
        "from sklearn.impute import SimpleImputer\n",
        "\n",
        "imp = SimpleImputer()\n",
        "imputed_X_train = pd.DataFrame(imp.fit_transform(X_train))\n",
        "imputed_X_valid = pd.DataFrame(imp.transform(X_valid))\n",
        "\n",
        "imputed_X_train.columns = X_train.columns\n",
        "imputed_X_valid.columns = X_valid.columns"
      ]
    },
    {
      "cell_type": "markdown",
      "id": "08402927",
      "metadata": {
        "papermill": {
          "duration": 0.006996,
          "end_time": "2024-01-23T11:38:58.315292",
          "exception": false,
          "start_time": "2024-01-23T11:38:58.308296",
          "status": "completed"
        },
        "tags": [],
        "id": "08402927"
      },
      "source": [
        "Run the next code cell without changes to obtain the MAE for this approach."
      ]
    },
    {
      "cell_type": "code",
      "execution_count": null,
      "id": "0bae343f",
      "metadata": {
        "execution": {
          "iopub.execute_input": "2024-01-23T11:38:58.331182Z",
          "iopub.status.busy": "2024-01-23T11:38:58.330746Z",
          "iopub.status.idle": "2024-01-23T11:38:59.713975Z",
          "shell.execute_reply": "2024-01-23T11:38:59.712819Z"
        },
        "papermill": {
          "duration": 1.393982,
          "end_time": "2024-01-23T11:38:59.716706",
          "exception": false,
          "start_time": "2024-01-23T11:38:58.322724",
          "status": "completed"
        },
        "tags": [],
        "id": "0bae343f",
        "outputId": "d907fd33-b5cb-4758-b50a-bc5743006016"
      },
      "outputs": [
        {
          "name": "stdout",
          "output_type": "stream",
          "text": [
            "MAE (Imputation):\n",
            "18062.894611872147\n"
          ]
        }
      ],
      "source": [
        "print(\"MAE (Imputation):\")\n",
        "print(score_dataset(imputed_X_train, imputed_X_valid, y_train, y_valid))"
      ]
    },
    {
      "cell_type": "markdown",
      "id": "5e45e20e",
      "metadata": {
        "papermill": {
          "duration": 0.007416,
          "end_time": "2024-01-23T11:38:59.731097",
          "exception": false,
          "start_time": "2024-01-23T11:38:59.723681",
          "status": "completed"
        },
        "tags": [],
        "id": "5e45e20e"
      },
      "source": [
        "# Generate test predictions\n",
        "\n",
        "### Part A\n",
        "\n",
        "You need only ensure:\n",
        "- the preprocessed DataFrames have the same number of columns,\n",
        "- the preprocessed DataFrames have no missing values,\n",
        "- `final_X_train` and `y_train` have the same number of rows, and\n",
        "- `final_X_valid` and `y_valid` have the same number of rows."
      ]
    },
    {
      "cell_type": "code",
      "execution_count": null,
      "id": "cbd99411",
      "metadata": {
        "execution": {
          "iopub.execute_input": "2024-01-23T11:38:59.747717Z",
          "iopub.status.busy": "2024-01-23T11:38:59.747313Z",
          "iopub.status.idle": "2024-01-23T11:38:59.754957Z",
          "shell.execute_reply": "2024-01-23T11:38:59.753878Z"
        },
        "papermill": {
          "duration": 0.018826,
          "end_time": "2024-01-23T11:38:59.757226",
          "exception": false,
          "start_time": "2024-01-23T11:38:59.738400",
          "status": "completed"
        },
        "tags": [],
        "id": "cbd99411",
        "outputId": "25fa637c-3c47-4754-ca7f-eb2e7789120d"
      },
      "outputs": [
        {
          "data": {
            "text/plain": [
              "Index(['MSSubClass', 'LotFrontage', 'LotArea', 'OverallQual', 'OverallCond',\n",
              "       'YearBuilt', 'YearRemodAdd', 'MasVnrArea', 'BsmtFinSF1', 'BsmtFinSF2',\n",
              "       'BsmtUnfSF', 'TotalBsmtSF', '1stFlrSF', '2ndFlrSF', 'LowQualFinSF',\n",
              "       'GrLivArea', 'BsmtFullBath', 'BsmtHalfBath', 'FullBath', 'HalfBath',\n",
              "       'BedroomAbvGr', 'KitchenAbvGr', 'TotRmsAbvGrd', 'Fireplaces',\n",
              "       'GarageYrBlt', 'GarageCars', 'GarageArea', 'WoodDeckSF', 'OpenPorchSF',\n",
              "       'EnclosedPorch', '3SsnPorch', 'ScreenPorch', 'PoolArea', 'MiscVal',\n",
              "       'MoSold', 'YrSold'],\n",
              "      dtype='object')"
            ]
          },
          "execution_count": 11,
          "metadata": {},
          "output_type": "execute_result"
        }
      ],
      "source": [
        "import numpy as np\n",
        "IMP = SimpleImputer(strategy=\"most_frequent\")\n",
        "X_train.columns"
      ]
    },
    {
      "cell_type": "code",
      "execution_count": null,
      "id": "fe6a2fc4",
      "metadata": {
        "execution": {
          "iopub.execute_input": "2024-01-23T11:38:59.773504Z",
          "iopub.status.busy": "2024-01-23T11:38:59.772796Z",
          "iopub.status.idle": "2024-01-23T11:38:59.792578Z",
          "shell.execute_reply": "2024-01-23T11:38:59.791403Z"
        },
        "papermill": {
          "duration": 0.031174,
          "end_time": "2024-01-23T11:38:59.795291",
          "exception": false,
          "start_time": "2024-01-23T11:38:59.764117",
          "status": "completed"
        },
        "tags": [],
        "id": "fe6a2fc4"
      },
      "outputs": [],
      "source": [
        "X_train.drop([\"GarageYrBlt\"],axis=1,inplace=True)\n",
        "X_train[\"MasVnrArea\"].fillna(0,inplace=True)\n",
        "X_train[\"LotFrontage\"] = IMP.fit_transform(X_train[[\"LotFrontage\"]]).ravel()\n",
        "X_valid.drop([\"GarageYrBlt\"],axis=1,inplace=True)\n",
        "X_valid[\"MasVnrArea\"].fillna(0,inplace=True)\n",
        "X_valid[\"LotFrontage\"] = IMP.fit_transform(X_valid[[\"LotFrontage\"]]).ravel()"
      ]
    },
    {
      "cell_type": "code",
      "execution_count": null,
      "id": "3373afdf",
      "metadata": {
        "execution": {
          "iopub.execute_input": "2024-01-23T11:38:59.811602Z",
          "iopub.status.busy": "2024-01-23T11:38:59.811204Z",
          "iopub.status.idle": "2024-01-23T11:38:59.816154Z",
          "shell.execute_reply": "2024-01-23T11:38:59.814709Z"
        },
        "papermill": {
          "duration": 0.01623,
          "end_time": "2024-01-23T11:38:59.818568",
          "exception": false,
          "start_time": "2024-01-23T11:38:59.802338",
          "status": "completed"
        },
        "tags": [],
        "id": "3373afdf"
      },
      "outputs": [],
      "source": [
        "# Preprocessed training and validation features\n",
        "final_X_train = X_train\n",
        "final_X_valid = X_valid"
      ]
    },
    {
      "cell_type": "code",
      "execution_count": null,
      "id": "78468cdd",
      "metadata": {
        "execution": {
          "iopub.execute_input": "2024-01-23T11:38:59.833959Z",
          "iopub.status.busy": "2024-01-23T11:38:59.833572Z",
          "iopub.status.idle": "2024-01-23T11:39:01.200308Z",
          "shell.execute_reply": "2024-01-23T11:39:01.199136Z"
        },
        "papermill": {
          "duration": 1.377304,
          "end_time": "2024-01-23T11:39:01.202714",
          "exception": false,
          "start_time": "2024-01-23T11:38:59.825410",
          "status": "completed"
        },
        "tags": [],
        "id": "78468cdd",
        "outputId": "caf70091-7f96-43c9-c0e8-4eb7a3d3f088"
      },
      "outputs": [
        {
          "name": "stdout",
          "output_type": "stream",
          "text": [
            "MAE (Your approach):\n",
            "18080.7398173516\n"
          ]
        }
      ],
      "source": [
        "# Define and fit model\n",
        "model = RandomForestRegressor(n_estimators=100, random_state=0)\n",
        "model.fit(final_X_train, y_train)\n",
        "\n",
        "# Get validation predictions and MAE\n",
        "preds_valid = model.predict(final_X_valid)\n",
        "print(\"MAE (Your approach):\")\n",
        "print(mean_absolute_error(y_valid, preds_valid))"
      ]
    },
    {
      "cell_type": "markdown",
      "id": "61b73f96",
      "metadata": {
        "papermill": {
          "duration": 0.006594,
          "end_time": "2024-01-23T11:39:01.216756",
          "exception": false,
          "start_time": "2024-01-23T11:39:01.210162",
          "status": "completed"
        },
        "tags": [],
        "id": "61b73f96"
      },
      "source": [
        "### Part B\n",
        "\n",
        "You need only ensure:\n",
        "- the preprocessed test DataFrame has no missing values, and\n",
        "- `final_X_test` has the same number of rows as `X_test`."
      ]
    },
    {
      "cell_type": "code",
      "execution_count": null,
      "id": "4dd18824",
      "metadata": {
        "execution": {
          "iopub.execute_input": "2024-01-23T11:39:01.232651Z",
          "iopub.status.busy": "2024-01-23T11:39:01.231760Z",
          "iopub.status.idle": "2024-01-23T11:39:01.245518Z",
          "shell.execute_reply": "2024-01-23T11:39:01.244517Z"
        },
        "papermill": {
          "duration": 0.024213,
          "end_time": "2024-01-23T11:39:01.247849",
          "exception": false,
          "start_time": "2024-01-23T11:39:01.223636",
          "status": "completed"
        },
        "tags": [],
        "id": "4dd18824"
      },
      "outputs": [],
      "source": [
        "temp = X_test.drop([\"GarageYrBlt\"],axis=1)\n",
        "temp[\"MasVnrArea\"].fillna(0,inplace=True)\n",
        "temp[\"LotFrontage\"] = IMP.fit_transform(temp[[\"LotFrontage\"]]).ravel()\n",
        "temp.fillna(0,inplace=True)"
      ]
    },
    {
      "cell_type": "code",
      "execution_count": null,
      "id": "28e2b9bc",
      "metadata": {
        "execution": {
          "iopub.execute_input": "2024-01-23T11:39:01.263705Z",
          "iopub.status.busy": "2024-01-23T11:39:01.263235Z",
          "iopub.status.idle": "2024-01-23T11:39:01.271477Z",
          "shell.execute_reply": "2024-01-23T11:39:01.270050Z"
        },
        "papermill": {
          "duration": 0.018768,
          "end_time": "2024-01-23T11:39:01.273777",
          "exception": false,
          "start_time": "2024-01-23T11:39:01.255009",
          "status": "completed"
        },
        "tags": [],
        "id": "28e2b9bc",
        "outputId": "d3d807b2-60bd-4d86-d166-847a8ed7b106"
      },
      "outputs": [
        {
          "name": "stdout",
          "output_type": "stream",
          "text": [
            "Series([], dtype: int64)\n"
          ]
        }
      ],
      "source": [
        "missing_val_count_by_column = (temp.isnull().sum())\n",
        "print(missing_val_count_by_column[missing_val_count_by_column > 0])"
      ]
    },
    {
      "cell_type": "code",
      "execution_count": null,
      "id": "ba5ed7cb",
      "metadata": {
        "execution": {
          "iopub.execute_input": "2024-01-23T11:39:01.290262Z",
          "iopub.status.busy": "2024-01-23T11:39:01.289830Z",
          "iopub.status.idle": "2024-01-23T11:39:01.322221Z",
          "shell.execute_reply": "2024-01-23T11:39:01.321081Z"
        },
        "papermill": {
          "duration": 0.044015,
          "end_time": "2024-01-23T11:39:01.324883",
          "exception": false,
          "start_time": "2024-01-23T11:39:01.280868",
          "status": "completed"
        },
        "tags": [],
        "id": "ba5ed7cb"
      },
      "outputs": [],
      "source": [
        "final_X_test = temp\n",
        "\n",
        "preds_test = model.predict(final_X_test)"
      ]
    },
    {
      "cell_type": "code",
      "execution_count": null,
      "id": "57d327e2",
      "metadata": {
        "execution": {
          "iopub.execute_input": "2024-01-23T11:39:01.341718Z",
          "iopub.status.busy": "2024-01-23T11:39:01.341292Z",
          "iopub.status.idle": "2024-01-23T11:39:01.353335Z",
          "shell.execute_reply": "2024-01-23T11:39:01.352197Z"
        },
        "papermill": {
          "duration": 0.023794,
          "end_time": "2024-01-23T11:39:01.355955",
          "exception": false,
          "start_time": "2024-01-23T11:39:01.332161",
          "status": "completed"
        },
        "tags": [],
        "id": "57d327e2"
      },
      "outputs": [],
      "source": [
        "# Save test predictions to file\n",
        "output = pd.DataFrame({'Id': X_test.index,\n",
        "                       'SalePrice': preds_test})\n",
        "output.to_csv('submission.csv', index=False)"
      ]
    },
    {
      "cell_type": "markdown",
      "source": [
        "Credits: Kaggle exercise"
      ],
      "metadata": {
        "id": "K0wgA4kvd3Xs"
      },
      "id": "K0wgA4kvd3Xs"
    }
  ],
  "metadata": {
    "kaggle": {
      "accelerator": "none",
      "dataSources": [
        {
          "databundleVersionId": 111096,
          "sourceId": 10211,
          "sourceType": "competition"
        }
      ],
      "isGpuEnabled": false,
      "isInternetEnabled": false,
      "language": "python",
      "sourceType": "notebook"
    },
    "kernelspec": {
      "display_name": "Python 3",
      "language": "python",
      "name": "python3"
    },
    "language_info": {
      "codemirror_mode": {
        "name": "ipython",
        "version": 3
      },
      "file_extension": ".py",
      "mimetype": "text/x-python",
      "name": "python",
      "nbconvert_exporter": "python",
      "pygments_lexer": "ipython3",
      "version": "3.10.12"
    },
    "papermill": {
      "default_parameters": {},
      "duration": 10.667499,
      "end_time": "2024-01-23T11:39:01.984055",
      "environment_variables": {},
      "exception": null,
      "input_path": "__notebook__.ipynb",
      "output_path": "__notebook__.ipynb",
      "parameters": {},
      "start_time": "2024-01-23T11:38:51.316556",
      "version": "2.4.0"
    },
    "colab": {
      "provenance": []
    }
  },
  "nbformat": 4,
  "nbformat_minor": 5
}